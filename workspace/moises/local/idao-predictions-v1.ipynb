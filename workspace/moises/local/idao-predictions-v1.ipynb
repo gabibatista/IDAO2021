{
 "cells": [
  {
   "cell_type": "code",
   "execution_count": 14,
   "metadata": {
    "colab": {
     "base_uri": "https://localhost:8080/"
    },
    "executionInfo": {
     "elapsed": 841,
     "status": "ok",
     "timestamp": 1615941628960,
     "user": {
      "displayName": "Moises de Paulo Dias",
      "photoUrl": "",
      "userId": "15599893695084219929"
     },
     "user_tz": 180
    },
    "id": "kfbtiIUxScaH",
    "outputId": "6370be6b-ad46-4600-87da-92ee0ce27059"
   },
   "outputs": [],
   "source": [
    "#from google.colab import drive\n",
    "#drive.mount('/gdrive')"
   ]
  },
  {
   "cell_type": "code",
   "execution_count": 12,
   "metadata": {
    "executionInfo": {
     "elapsed": 2695,
     "status": "ok",
     "timestamp": 1615941633806,
     "user": {
      "displayName": "Moises de Paulo Dias",
      "photoUrl": "",
      "userId": "15599893695084219929"
     },
     "user_tz": 180
    },
    "id": "ZElCwsauHJLd"
   },
   "outputs": [],
   "source": [
    "# imports\n",
    "\n",
    "import pandas as pd\n",
    "#from google.colab import files\n",
    "from os import listdir\n",
    "from os.path import isfile, join\n",
    "import re\n",
    "from collections import Counter\n",
    "from PIL import Image\n",
    "import numpy as np\n",
    "from keras.models import Model\n",
    "from keras.models import load_model\n",
    "from keras.models import Sequential\n",
    "from keras.layers import Input, Dense, Activation, ZeroPadding2D, BatchNormalization, Flatten, Conv2D, MaxPooling2D, Dropout\n",
    "from matplotlib.image import imread\n",
    "from random import shuffle\n",
    "from math import ceil"
   ]
  },
  {
   "cell_type": "code",
   "execution_count": 13,
   "metadata": {
    "executionInfo": {
     "elapsed": 832,
     "status": "ok",
     "timestamp": 1615941636429,
     "user": {
      "displayName": "Moises de Paulo Dias",
      "photoUrl": "",
      "userId": "15599893695084219929"
     },
     "user_tz": 180
    },
    "id": "i-CEhkXIvZ9k"
   },
   "outputs": [],
   "source": [
    "# variaveis\n",
    "\n",
    "img_to_load = 300 # imagens a serem carregadas por vez (carregando as 10000 de uma vez sobrecarrega o sistema)\n",
    "crop_size = 150 # altura e largura da imagem a ser enviada para o modelo"
   ]
  },
  {
   "cell_type": "code",
   "execution_count": 14,
   "metadata": {
    "executionInfo": {
     "elapsed": 684,
     "status": "ok",
     "timestamp": 1615941637441,
     "user": {
      "displayName": "Moises de Paulo Dias",
      "photoUrl": "",
      "userId": "15599893695084219929"
     },
     "user_tz": 180
    },
    "id": "2qRqIIexPnmW"
   },
   "outputs": [],
   "source": [
    "#função para pegar só o centro da imagem\n",
    "\n",
    "def crop_center(img,cropx,cropy):\n",
    "    y,x = img.shape\n",
    "    startx = x//2-(cropx//2)\n",
    "    starty = y//2-(cropy//2)    \n",
    "    return img[starty:starty+cropy,startx:startx+cropx]"
   ]
  },
  {
   "cell_type": "code",
   "execution_count": 15,
   "metadata": {
    "colab": {
     "base_uri": "https://localhost:8080/"
    },
    "executionInfo": {
     "elapsed": 2013,
     "status": "ok",
     "timestamp": 1615938258086,
     "user": {
      "displayName": "Moises de Paulo Dias",
      "photoUrl": "",
      "userId": "15599893695084219929"
     },
     "user_tz": 180
    },
    "id": "5efXUTpTu1iZ",
    "outputId": "1ba63283-8a36-4f8c-b6d1-c71ff4cfb958"
   },
   "outputs": [],
   "source": [
    "# usar se estiver usando google colab, isso descompacta um arquivo no diretório do notebook\n",
    "\n",
    "#!unzip regression_model_0_0070226178504526615.zip"
   ]
  },
  {
   "cell_type": "code",
   "execution_count": 16,
   "metadata": {
    "executionInfo": {
     "elapsed": 2529,
     "status": "ok",
     "timestamp": 1615941643538,
     "user": {
      "displayName": "Moises de Paulo Dias",
      "photoUrl": "",
      "userId": "15599893695084219929"
     },
     "user_tz": 180
    },
    "id": "EAKLdTA2obdf"
   },
   "outputs": [],
   "source": [
    "# carrega um modelo salvo anteriormente\n",
    "\n",
    "c_model = load_model('classification_model')\n",
    "r_model = load_model('regression_model')"
   ]
  },
  {
   "cell_type": "code",
   "execution_count": 17,
   "metadata": {
    "colab": {
     "base_uri": "https://localhost:8080/"
    },
    "executionInfo": {
     "elapsed": 840,
     "status": "ok",
     "timestamp": 1615941647739,
     "user": {
      "displayName": "Moises de Paulo Dias",
      "photoUrl": "",
      "userId": "15599893695084219929"
     },
     "user_tz": 180
    },
    "id": "wO7a-8TQn1qo",
    "outputId": "a094ba64-961a-462d-dd32-5a1c23021492"
   },
   "outputs": [
    {
     "name": "stdout",
     "output_type": "stream",
     "text": [
      "1502\n"
     ]
    },
    {
     "data": {
      "text/plain": [
       "['public_test/001ec8f4d2679f2899a63e4b2597c0a10bd9393f.png',\n",
       " 'public_test/00327390bfd6101b87106e96e0efc1c938690e1f.png',\n",
       " 'public_test/00573dde8addbac780cfa35a55a790fa1aa45178.png',\n",
       " 'public_test/00cb5b91a4acdfaa2f55dc2266e598ff06f9209e.png',\n",
       " 'public_test/00de1146bdcbfb02ed5f0e13fd6b9fe62157c0b2.png']"
      ]
     },
     "execution_count": 17,
     "metadata": {},
     "output_type": "execute_result"
    }
   ],
   "source": [
    "public_path = 'public_test/'\n",
    "public_files = [f'{public_path}{f}' for f in listdir(public_path) if isfile(join(public_path, f))]\n",
    "print(len(public_files))\n",
    "public_files[:5]"
   ]
  },
  {
   "cell_type": "code",
   "execution_count": 18,
   "metadata": {
    "colab": {
     "base_uri": "https://localhost:8080/"
    },
    "executionInfo": {
     "elapsed": 3482,
     "status": "ok",
     "timestamp": 1615941652314,
     "user": {
      "displayName": "Moises de Paulo Dias",
      "photoUrl": "",
      "userId": "15599893695084219929"
     },
     "user_tz": 180
    },
    "id": "iznEpvQhqyib",
    "outputId": "c29e4c13-2e57-4a81-9c60-51ed6f270ea7"
   },
   "outputs": [
    {
     "name": "stdout",
     "output_type": "stream",
     "text": [
      "15062\n"
     ]
    },
    {
     "data": {
      "text/plain": [
       "['private_test/0002894871bb30af2670648c58b2506e9801a321.png',\n",
       " 'private_test/000a95ca23df016a149ff9af94b6e9d8633d6691.png',\n",
       " 'private_test/000b4407dee7dad2ba46586e6ba1264f45965e51.png',\n",
       " 'private_test/000c45d729066044e3dd3f885fddf013b845b6d7.png',\n",
       " 'private_test/0011f80e44faa713714ead6aeab3b2f9db54aebd.png']"
      ]
     },
     "execution_count": 18,
     "metadata": {},
     "output_type": "execute_result"
    }
   ],
   "source": [
    "private_path = 'private_test/'\n",
    "private_files = [f'{private_path}{f}' for f in listdir(private_path) if isfile(join(private_path, f))]\n",
    "print(len(private_files))\n",
    "private_files[:5]"
   ]
  },
  {
   "cell_type": "code",
   "execution_count": 19,
   "metadata": {
    "colab": {
     "base_uri": "https://localhost:8080/"
    },
    "executionInfo": {
     "elapsed": 976,
     "status": "ok",
     "timestamp": 1615941653295,
     "user": {
      "displayName": "Moises de Paulo Dias",
      "photoUrl": "",
      "userId": "15599893695084219929"
     },
     "user_tz": 180
    },
    "id": "8_1gf1SRr2PF",
    "outputId": "ca5ad931-a0ac-43c7-a693-38df8d90da2f"
   },
   "outputs": [
    {
     "data": {
      "text/plain": [
       "16564"
      ]
     },
     "execution_count": 19,
     "metadata": {},
     "output_type": "execute_result"
    }
   ],
   "source": [
    "all_test_files = public_files + private_files\n",
    "len(all_test_files)"
   ]
  },
  {
   "cell_type": "code",
   "execution_count": 21,
   "metadata": {
    "colab": {
     "base_uri": "https://localhost:8080/"
    },
    "id": "W0YefOwlSVPG",
    "outputId": "111d816f-4705-4f33-f2ae-995642da246e"
   },
   "outputs": [
    {
     "name": "stdout",
     "output_type": "stream",
     "text": [
      "loaded 0 to 300\n",
      "300\n",
      "loaded 300 to 600\n",
      "600\n",
      "loaded 600 to 900\n",
      "900\n",
      "loaded 900 to 1200\n",
      "1200\n",
      "loaded 1200 to 1500\n",
      "1500\n",
      "loaded 1500 to 1800\n",
      "1800\n",
      "loaded 1800 to 2100\n",
      "2100\n",
      "loaded 2100 to 2400\n",
      "2400\n",
      "loaded 2400 to 2700\n",
      "2700\n",
      "loaded 2700 to 3000\n",
      "3000\n",
      "loaded 3000 to 3300\n",
      "3300\n",
      "loaded 3300 to 3600\n",
      "3600\n",
      "loaded 3600 to 3900\n",
      "3900\n",
      "loaded 3900 to 4200\n",
      "4200\n",
      "loaded 4200 to 4500\n",
      "4500\n",
      "loaded 4500 to 4800\n",
      "4800\n",
      "loaded 4800 to 5100\n",
      "5100\n",
      "loaded 5100 to 5400\n",
      "5400\n",
      "loaded 5400 to 5700\n",
      "5700\n",
      "loaded 5700 to 6000\n",
      "6000\n",
      "loaded 6000 to 6300\n",
      "6300\n",
      "loaded 6300 to 6600\n",
      "6600\n",
      "loaded 6600 to 6900\n",
      "6900\n",
      "loaded 6900 to 7200\n",
      "7200\n",
      "loaded 7200 to 7500\n",
      "7500\n",
      "loaded 7500 to 7800\n",
      "7800\n",
      "loaded 7800 to 8100\n",
      "8100\n",
      "loaded 8100 to 8400\n",
      "8400\n",
      "loaded 8400 to 8700\n",
      "8700\n",
      "loaded 8700 to 9000\n",
      "9000\n",
      "loaded 9000 to 9300\n",
      "9300\n",
      "loaded 9300 to 9600\n",
      "9600\n",
      "loaded 9600 to 9900\n",
      "9900\n",
      "loaded 9900 to 10200\n",
      "10200\n",
      "loaded 10200 to 10500\n",
      "10500\n",
      "loaded 10500 to 10800\n",
      "10800\n",
      "loaded 10800 to 11100\n",
      "11100\n",
      "loaded 11100 to 11400\n",
      "11400\n",
      "loaded 11400 to 11700\n",
      "11700\n",
      "loaded 11700 to 12000\n",
      "12000\n",
      "loaded 12000 to 12300\n",
      "12300\n",
      "loaded 12300 to 12600\n",
      "12600\n",
      "loaded 12600 to 12900\n",
      "12900\n",
      "loaded 12900 to 13200\n",
      "13200\n",
      "loaded 13200 to 13500\n",
      "13500\n",
      "loaded 13500 to 13800\n",
      "13800\n",
      "loaded 13800 to 14100\n",
      "14100\n",
      "loaded 14100 to 14400\n",
      "14400\n",
      "loaded 14400 to 14700\n",
      "14700\n",
      "loaded 14700 to 15000\n",
      "15000\n",
      "loaded 15000 to 15300\n",
      "15300\n",
      "loaded 15300 to 15600\n",
      "15600\n",
      "loaded 15600 to 15900\n",
      "15900\n",
      "loaded 15900 to 16200\n",
      "16200\n",
      "loaded 16200 to 16500\n",
      "16500\n",
      "loaded 16500 to 16564\n",
      "16564\n"
     ]
    }
   ],
   "source": [
    "#img_to_load = 10\n",
    "\n",
    "df = pd.DataFrame()\n",
    "\n",
    "for i in range(ceil(len(all_test_files)/img_to_load)):\n",
    "    begin = i*img_to_load\n",
    "    limit = min(i*img_to_load + img_to_load, len(all_test_files))\n",
    "    if begin >= limit:\n",
    "        break\n",
    "    \n",
    "    X_str = all_test_files[begin:limit]\n",
    "    X = [crop_center(imread(file), crop_size, crop_size) for file in all_test_files[begin:limit]]\n",
    "    X = np.stack(X, axis=0)\n",
    "    X = X.reshape((X.shape + (1,)))\n",
    "    print(f'loaded {begin} to {limit}')\n",
    "    \n",
    "    c_predictions = (c_model.predict(X) > 0.5).astype(\"int32\")\n",
    "    r_predictions = (r_model.predict(X)) * 30\n",
    "\n",
    "    list_dict = [{'id': re.findall(r\"(?<=_test\\/).*(?=\\.png)\", X_str[i])[0], \n",
    "                  'classification_predictions': c_predictions[i][0], \n",
    "                  'regression_predictions': r_predictions[i][0]} for i in range(len(X))]\n",
    "    df_aux = pd.DataFrame(list_dict)\n",
    "    df = pd.concat([df, df_aux])\n",
    "    print(len(df))"
   ]
  },
  {
   "cell_type": "code",
   "execution_count": 31,
   "metadata": {
    "id": "eT22wwRTh1s5"
   },
   "outputs": [],
   "source": [
    "df = df.sort_values(by=['id'])\n",
    "df.to_csv('predictions.csv', index=False)"
   ]
  },
  {
   "cell_type": "code",
   "execution_count": 23,
   "metadata": {
    "colab": {
     "base_uri": "https://localhost:8080/",
     "height": 979
    },
    "executionInfo": {
     "elapsed": 822,
     "status": "ok",
     "timestamp": 1615940879797,
     "user": {
      "displayName": "Moises de Paulo Dias",
      "photoUrl": "",
      "userId": "15599893695084219929"
     },
     "user_tz": 180
    },
    "id": "Lxa93ySnaZU_",
    "outputId": "dec6edd0-ddd2-433c-c4b3-80beab65f99b"
   },
   "outputs": [
    {
     "data": {
      "text/plain": [
       "16564"
      ]
     },
     "execution_count": 23,
     "metadata": {},
     "output_type": "execute_result"
    }
   ],
   "source": [
    "len(df.index)"
   ]
  },
  {
   "cell_type": "code",
   "execution_count": 26,
   "metadata": {},
   "outputs": [
    {
     "data": {
      "text/plain": [
       "9105cd8246e5d52859f0b8e149e4716bc651800c    1\n",
       "47e22be57861bb9235cc98b6efe9d4d9ec5f0e3f    1\n",
       "c1af5e23e5ee51bb6ed07648a852b227b95d6242    1\n",
       "977f0dc8754d5ed3f0c249d973919a6be0d7c0b1    1\n",
       "1598beef1def969362868c27d2047dd55645821a    1\n",
       "                                           ..\n",
       "c2c93b456a28ff2d443a843f1cf0176c1fde254b    1\n",
       "58ee76462562c96d6dd9e16d6d13f2dbdcb33ac0    1\n",
       "4ceb20813e2864c76faacfe4b64603fc5b25f096    1\n",
       "92a947a7fb6abe81db45bca2f5c79a4dfa4779c2    1\n",
       "867d741d64c063f6b5596bbf5a6876cccdd2ce77    1\n",
       "Name: id, Length: 16564, dtype: int64"
      ]
     },
     "execution_count": 26,
     "metadata": {},
     "output_type": "execute_result"
    }
   ],
   "source": [
    "test['id'].value_counts()"
   ]
  },
  {
   "cell_type": "code",
   "execution_count": 30,
   "metadata": {},
   "outputs": [
    {
     "data": {
      "text/html": [
       "<div>\n",
       "<style scoped>\n",
       "    .dataframe tbody tr th:only-of-type {\n",
       "        vertical-align: middle;\n",
       "    }\n",
       "\n",
       "    .dataframe tbody tr th {\n",
       "        vertical-align: top;\n",
       "    }\n",
       "\n",
       "    .dataframe thead th {\n",
       "        text-align: right;\n",
       "    }\n",
       "</style>\n",
       "<table border=\"1\" class=\"dataframe\">\n",
       "  <thead>\n",
       "    <tr style=\"text-align: right;\">\n",
       "      <th></th>\n",
       "      <th>id</th>\n",
       "      <th>classification_predictions</th>\n",
       "      <th>regression_predictions</th>\n",
       "    </tr>\n",
       "  </thead>\n",
       "  <tbody>\n",
       "    <tr>\n",
       "      <th>2</th>\n",
       "      <td>0002894871bb30af2670648c58b2506e9801a321</td>\n",
       "      <td>0</td>\n",
       "      <td>28.810635</td>\n",
       "    </tr>\n",
       "    <tr>\n",
       "      <th>3</th>\n",
       "      <td>000a95ca23df016a149ff9af94b6e9d8633d6691</td>\n",
       "      <td>1</td>\n",
       "      <td>24.765879</td>\n",
       "    </tr>\n",
       "    <tr>\n",
       "      <th>4</th>\n",
       "      <td>000b4407dee7dad2ba46586e6ba1264f45965e51</td>\n",
       "      <td>1</td>\n",
       "      <td>23.256393</td>\n",
       "    </tr>\n",
       "    <tr>\n",
       "      <th>5</th>\n",
       "      <td>000c45d729066044e3dd3f885fddf013b845b6d7</td>\n",
       "      <td>0</td>\n",
       "      <td>29.423479</td>\n",
       "    </tr>\n",
       "    <tr>\n",
       "      <th>6</th>\n",
       "      <td>0011f80e44faa713714ead6aeab3b2f9db54aebd</td>\n",
       "      <td>1</td>\n",
       "      <td>7.986916</td>\n",
       "    </tr>\n",
       "    <tr>\n",
       "      <th>...</th>\n",
       "      <td>...</td>\n",
       "      <td>...</td>\n",
       "      <td>...</td>\n",
       "    </tr>\n",
       "    <tr>\n",
       "      <th>61</th>\n",
       "      <td>ffdfd25b2f522ba2312dda90189ec48205578199</td>\n",
       "      <td>0</td>\n",
       "      <td>27.798077</td>\n",
       "    </tr>\n",
       "    <tr>\n",
       "      <th>62</th>\n",
       "      <td>ffe29ac691148f84c7a7759e687aa6c2f0eac11a</td>\n",
       "      <td>1</td>\n",
       "      <td>25.308645</td>\n",
       "    </tr>\n",
       "    <tr>\n",
       "      <th>0</th>\n",
       "      <td>ffedc12ec5c142dae2086408b778cf0db2ff944e</td>\n",
       "      <td>0</td>\n",
       "      <td>2.953554</td>\n",
       "    </tr>\n",
       "    <tr>\n",
       "      <th>63</th>\n",
       "      <td>fff423086a80114984b647af69f710cf3ef844f9</td>\n",
       "      <td>1</td>\n",
       "      <td>3.372553</td>\n",
       "    </tr>\n",
       "    <tr>\n",
       "      <th>1</th>\n",
       "      <td>fffdd654bd60b81ffd51a723a8839b8f5381feba</td>\n",
       "      <td>1</td>\n",
       "      <td>1.048227</td>\n",
       "    </tr>\n",
       "  </tbody>\n",
       "</table>\n",
       "<p>16564 rows × 3 columns</p>\n",
       "</div>"
      ],
      "text/plain": [
       "                                          id  classification_predictions  \\\n",
       "2   0002894871bb30af2670648c58b2506e9801a321                           0   \n",
       "3   000a95ca23df016a149ff9af94b6e9d8633d6691                           1   \n",
       "4   000b4407dee7dad2ba46586e6ba1264f45965e51                           1   \n",
       "5   000c45d729066044e3dd3f885fddf013b845b6d7                           0   \n",
       "6   0011f80e44faa713714ead6aeab3b2f9db54aebd                           1   \n",
       "..                                       ...                         ...   \n",
       "61  ffdfd25b2f522ba2312dda90189ec48205578199                           0   \n",
       "62  ffe29ac691148f84c7a7759e687aa6c2f0eac11a                           1   \n",
       "0   ffedc12ec5c142dae2086408b778cf0db2ff944e                           0   \n",
       "63  fff423086a80114984b647af69f710cf3ef844f9                           1   \n",
       "1   fffdd654bd60b81ffd51a723a8839b8f5381feba                           1   \n",
       "\n",
       "    regression_predictions  \n",
       "2                28.810635  \n",
       "3                24.765879  \n",
       "4                23.256393  \n",
       "5                29.423479  \n",
       "6                 7.986916  \n",
       "..                     ...  \n",
       "61               27.798077  \n",
       "62               25.308645  \n",
       "0                 2.953554  \n",
       "63                3.372553  \n",
       "1                 1.048227  \n",
       "\n",
       "[16564 rows x 3 columns]"
      ]
     },
     "execution_count": 30,
     "metadata": {},
     "output_type": "execute_result"
    }
   ],
   "source": [
    "df"
   ]
  },
  {
   "cell_type": "code",
   "execution_count": null,
   "metadata": {},
   "outputs": [],
   "source": []
  }
 ],
 "metadata": {
  "colab": {
   "authorship_tag": "ABX9TyM2tiAW5aDPlOsxOaMx0iv1",
   "collapsed_sections": [],
   "name": "idao-predictions-v1.ipynb",
   "provenance": [],
   "toc_visible": true
  },
  "kernelspec": {
   "display_name": "Python 3",
   "language": "python",
   "name": "python3"
  },
  "language_info": {
   "codemirror_mode": {
    "name": "ipython",
    "version": 3
   },
   "file_extension": ".py",
   "mimetype": "text/x-python",
   "name": "python",
   "nbconvert_exporter": "python",
   "pygments_lexer": "ipython3",
   "version": "3.8.3"
  }
 },
 "nbformat": 4,
 "nbformat_minor": 1
}
