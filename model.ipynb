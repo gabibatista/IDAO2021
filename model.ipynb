{
 "cells": [
  {
   "cell_type": "code",
   "execution_count": 1,
   "metadata": {},
   "outputs": [],
   "source": [
    "import pandas as pd, numpy as np\n",
    "from time import time"
   ]
  },
  {
   "cell_type": "code",
   "execution_count": 2,
   "metadata": {},
   "outputs": [],
   "source": [
    "df = pd.read_csv('data/train_dataset.csv', header=None)\n",
    "# df['pixels'] = df['pixels'].apply(lambda x: np.array(x.split(','), dtype=int))\n",
    "df = df.sample(frac=1)"
   ]
  },
  {
   "cell_type": "code",
   "execution_count": 3,
   "metadata": {},
   "outputs": [
    {
     "data": {
      "text/plain": [
       "0       13404\n",
       "1       13404\n",
       "2       13404\n",
       "3       13404\n",
       "4       13404\n",
       "        ...  \n",
       "2498    13404\n",
       "2499    13404\n",
       "2500    13404\n",
       "2501    13404\n",
       "2502    13404\n",
       "Length: 2503, dtype: int64"
      ]
     },
     "execution_count": 3,
     "metadata": {},
     "output_type": "execute_result"
    }
   ],
   "source": [
    "df.count()"
   ]
  },
  {
   "cell_type": "code",
   "execution_count": 4,
   "metadata": {},
   "outputs": [
    {
     "data": {
      "text/html": [
       "<div>\n",
       "<style scoped>\n",
       "    .dataframe tbody tr th:only-of-type {\n",
       "        vertical-align: middle;\n",
       "    }\n",
       "\n",
       "    .dataframe tbody tr th {\n",
       "        vertical-align: top;\n",
       "    }\n",
       "\n",
       "    .dataframe thead th {\n",
       "        text-align: right;\n",
       "    }\n",
       "</style>\n",
       "<table border=\"1\" class=\"dataframe\">\n",
       "  <thead>\n",
       "    <tr style=\"text-align: right;\">\n",
       "      <th></th>\n",
       "      <th>0</th>\n",
       "      <th>1</th>\n",
       "      <th>2</th>\n",
       "      <th>3</th>\n",
       "      <th>4</th>\n",
       "      <th>5</th>\n",
       "      <th>6</th>\n",
       "      <th>7</th>\n",
       "      <th>8</th>\n",
       "      <th>9</th>\n",
       "      <th>...</th>\n",
       "      <th>2493</th>\n",
       "      <th>2494</th>\n",
       "      <th>2495</th>\n",
       "      <th>2496</th>\n",
       "      <th>2497</th>\n",
       "      <th>2498</th>\n",
       "      <th>2499</th>\n",
       "      <th>2500</th>\n",
       "      <th>2501</th>\n",
       "      <th>2502</th>\n",
       "    </tr>\n",
       "  </thead>\n",
       "  <tbody>\n",
       "    <tr>\n",
       "      <td>3621</td>\n",
       "      <td>-0.833277</td>\n",
       "      <td>ER</td>\n",
       "      <td>30</td>\n",
       "      <td>25700</td>\n",
       "      <td>25957</td>\n",
       "      <td>25957</td>\n",
       "      <td>25700</td>\n",
       "      <td>25957</td>\n",
       "      <td>25700</td>\n",
       "      <td>25957</td>\n",
       "      <td>...</td>\n",
       "      <td>25700</td>\n",
       "      <td>25700</td>\n",
       "      <td>25700</td>\n",
       "      <td>25700</td>\n",
       "      <td>25957</td>\n",
       "      <td>25700</td>\n",
       "      <td>25700</td>\n",
       "      <td>25700</td>\n",
       "      <td>25700</td>\n",
       "      <td>25700</td>\n",
       "    </tr>\n",
       "    <tr>\n",
       "      <td>9924</td>\n",
       "      <td>1.496300</td>\n",
       "      <td>NR</td>\n",
       "      <td>1</td>\n",
       "      <td>25957</td>\n",
       "      <td>25700</td>\n",
       "      <td>25700</td>\n",
       "      <td>25957</td>\n",
       "      <td>25700</td>\n",
       "      <td>25957</td>\n",
       "      <td>25957</td>\n",
       "      <td>...</td>\n",
       "      <td>25700</td>\n",
       "      <td>25700</td>\n",
       "      <td>25700</td>\n",
       "      <td>25700</td>\n",
       "      <td>25700</td>\n",
       "      <td>25700</td>\n",
       "      <td>25700</td>\n",
       "      <td>25957</td>\n",
       "      <td>25957</td>\n",
       "      <td>25700</td>\n",
       "    </tr>\n",
       "    <tr>\n",
       "      <td>9413</td>\n",
       "      <td>-1.243400</td>\n",
       "      <td>NR</td>\n",
       "      <td>20</td>\n",
       "      <td>25957</td>\n",
       "      <td>25700</td>\n",
       "      <td>25700</td>\n",
       "      <td>25957</td>\n",
       "      <td>25700</td>\n",
       "      <td>25700</td>\n",
       "      <td>25700</td>\n",
       "      <td>...</td>\n",
       "      <td>25957</td>\n",
       "      <td>25700</td>\n",
       "      <td>25700</td>\n",
       "      <td>25700</td>\n",
       "      <td>25700</td>\n",
       "      <td>25700</td>\n",
       "      <td>25700</td>\n",
       "      <td>25957</td>\n",
       "      <td>25700</td>\n",
       "      <td>25700</td>\n",
       "    </tr>\n",
       "    <tr>\n",
       "      <td>1412</td>\n",
       "      <td>-0.327254</td>\n",
       "      <td>ER</td>\n",
       "      <td>3</td>\n",
       "      <td>25957</td>\n",
       "      <td>25957</td>\n",
       "      <td>25700</td>\n",
       "      <td>25700</td>\n",
       "      <td>25957</td>\n",
       "      <td>25957</td>\n",
       "      <td>25957</td>\n",
       "      <td>...</td>\n",
       "      <td>25700</td>\n",
       "      <td>25700</td>\n",
       "      <td>25700</td>\n",
       "      <td>25957</td>\n",
       "      <td>25700</td>\n",
       "      <td>25957</td>\n",
       "      <td>25957</td>\n",
       "      <td>25957</td>\n",
       "      <td>25700</td>\n",
       "      <td>25700</td>\n",
       "    </tr>\n",
       "    <tr>\n",
       "      <td>8364</td>\n",
       "      <td>-0.762100</td>\n",
       "      <td>NR</td>\n",
       "      <td>6</td>\n",
       "      <td>25957</td>\n",
       "      <td>25700</td>\n",
       "      <td>25700</td>\n",
       "      <td>25700</td>\n",
       "      <td>25700</td>\n",
       "      <td>25700</td>\n",
       "      <td>25700</td>\n",
       "      <td>...</td>\n",
       "      <td>25700</td>\n",
       "      <td>25700</td>\n",
       "      <td>25700</td>\n",
       "      <td>25957</td>\n",
       "      <td>25700</td>\n",
       "      <td>25700</td>\n",
       "      <td>25700</td>\n",
       "      <td>25700</td>\n",
       "      <td>25700</td>\n",
       "      <td>25700</td>\n",
       "    </tr>\n",
       "  </tbody>\n",
       "</table>\n",
       "<p>5 rows × 2503 columns</p>\n",
       "</div>"
      ],
      "text/plain": [
       "          0    1     2      3      4      5      6      7      8      9     \\\n",
       "3621 -0.833277   ER    30  25700  25957  25957  25700  25957  25700  25957   \n",
       "9924  1.496300   NR     1  25957  25700  25700  25957  25700  25957  25957   \n",
       "9413 -1.243400   NR    20  25957  25700  25700  25957  25700  25700  25700   \n",
       "1412 -0.327254   ER     3  25957  25957  25700  25700  25957  25957  25957   \n",
       "8364 -0.762100   NR     6  25957  25700  25700  25700  25700  25700  25700   \n",
       "\n",
       "      ...   2493   2494   2495   2496   2497   2498   2499   2500   2501  \\\n",
       "3621  ...  25700  25700  25700  25700  25957  25700  25700  25700  25700   \n",
       "9924  ...  25700  25700  25700  25700  25700  25700  25700  25957  25957   \n",
       "9413  ...  25957  25700  25700  25700  25700  25700  25700  25957  25700   \n",
       "1412  ...  25700  25700  25700  25957  25700  25957  25957  25957  25700   \n",
       "8364  ...  25700  25700  25700  25957  25700  25700  25700  25700  25700   \n",
       "\n",
       "       2502  \n",
       "3621  25700  \n",
       "9924  25700  \n",
       "9413  25700  \n",
       "1412  25700  \n",
       "8364  25700  \n",
       "\n",
       "[5 rows x 2503 columns]"
      ]
     },
     "execution_count": 4,
     "metadata": {},
     "output_type": "execute_result"
    }
   ],
   "source": [
    "df.head()"
   ]
  },
  {
   "cell_type": "markdown",
   "metadata": {},
   "source": [
    "### Classification in ER or NR"
   ]
  },
  {
   "cell_type": "code",
   "execution_count": 5,
   "metadata": {},
   "outputs": [],
   "source": [
    "x_train = df.iloc[:, 3:].values\n",
    "\n",
    "y_train = pd.get_dummies(df.iloc[:, 1:2]).values"
   ]
  },
  {
   "cell_type": "markdown",
   "metadata": {},
   "source": [
    "### Rede Neural Convolucional"
   ]
  },
  {
   "cell_type": "code",
   "execution_count": 6,
   "metadata": {},
   "outputs": [
    {
     "name": "stderr",
     "output_type": "stream",
     "text": [
      "/home/gabriela.batista/anaconda3/lib/python3.6/site-packages/h5py/__init__.py:36: FutureWarning: Conversion of the second argument of issubdtype from `float` to `np.floating` is deprecated. In future, it will be treated as `np.float64 == np.dtype(float).type`.\n",
      "  from ._conv import register_converters as _register_converters\n",
      "Using TensorFlow backend.\n",
      "/home/gabriela.batista/anaconda3/lib/python3.6/site-packages/tensorflow/python/framework/dtypes.py:523: FutureWarning: Passing (type, 1) or '1type' as a synonym of type is deprecated; in a future version of numpy, it will be understood as (type, (1,)) / '(1,)type'.\n",
      "  _np_qint8 = np.dtype([(\"qint8\", np.int8, 1)])\n",
      "/home/gabriela.batista/anaconda3/lib/python3.6/site-packages/tensorflow/python/framework/dtypes.py:524: FutureWarning: Passing (type, 1) or '1type' as a synonym of type is deprecated; in a future version of numpy, it will be understood as (type, (1,)) / '(1,)type'.\n",
      "  _np_quint8 = np.dtype([(\"quint8\", np.uint8, 1)])\n",
      "/home/gabriela.batista/anaconda3/lib/python3.6/site-packages/tensorflow/python/framework/dtypes.py:525: FutureWarning: Passing (type, 1) or '1type' as a synonym of type is deprecated; in a future version of numpy, it will be understood as (type, (1,)) / '(1,)type'.\n",
      "  _np_qint16 = np.dtype([(\"qint16\", np.int16, 1)])\n",
      "/home/gabriela.batista/anaconda3/lib/python3.6/site-packages/tensorflow/python/framework/dtypes.py:526: FutureWarning: Passing (type, 1) or '1type' as a synonym of type is deprecated; in a future version of numpy, it will be understood as (type, (1,)) / '(1,)type'.\n",
      "  _np_quint16 = np.dtype([(\"quint16\", np.uint16, 1)])\n",
      "/home/gabriela.batista/anaconda3/lib/python3.6/site-packages/tensorflow/python/framework/dtypes.py:527: FutureWarning: Passing (type, 1) or '1type' as a synonym of type is deprecated; in a future version of numpy, it will be understood as (type, (1,)) / '(1,)type'.\n",
      "  _np_qint32 = np.dtype([(\"qint32\", np.int32, 1)])\n",
      "/home/gabriela.batista/anaconda3/lib/python3.6/site-packages/tensorflow/python/framework/dtypes.py:532: FutureWarning: Passing (type, 1) or '1type' as a synonym of type is deprecated; in a future version of numpy, it will be understood as (type, (1,)) / '(1,)type'.\n",
      "  np_resource = np.dtype([(\"resource\", np.ubyte, 1)])\n"
     ]
    }
   ],
   "source": [
    "from keras import initializers\n",
    "from keras.models import Sequential\n",
    "from keras.layers import Dense, Activation, Dropout, Conv2D, MaxPooling2D, AveragePooling2D, Flatten"
   ]
  },
  {
   "cell_type": "code",
   "execution_count": 7,
   "metadata": {},
   "outputs": [],
   "source": [
    "start = time()"
   ]
  },
  {
   "cell_type": "code",
   "execution_count": 8,
   "metadata": {},
   "outputs": [],
   "source": [
    "img_rows, img_cols = 50, 50\n",
    "nb_filters = 8\n",
    "pool_size = (2, 2)\n",
    "kernel_size = (5, 5)"
   ]
  },
  {
   "cell_type": "code",
   "execution_count": 9,
   "metadata": {},
   "outputs": [
    {
     "data": {
      "text/plain": [
       "(13404, 2500)"
      ]
     },
     "execution_count": 9,
     "metadata": {},
     "output_type": "execute_result"
    }
   ],
   "source": [
    "x_train.shape"
   ]
  },
  {
   "cell_type": "code",
   "execution_count": 10,
   "metadata": {},
   "outputs": [],
   "source": [
    "# Reshaping my image features (x_train) into matrix\n",
    "x_train = x_train.reshape(x_train.shape[0], img_rows, img_cols, 1)\n",
    "# x_test = x_test.reshape(X_test.shape[0], img_rows, img_cols, 1)\n",
    "input_shape = (img_rows, img_cols, 1)"
   ]
  },
  {
   "cell_type": "markdown",
   "metadata": {},
   "source": [
    "## Creating model"
   ]
  },
  {
   "cell_type": "markdown",
   "metadata": {},
   "source": [
    "####  Convolutional Neural Networks:\n",
    "https://towardsdatascience.com/a-comprehensive-guide-to-convolutional-neural-networks-the-eli5-way-3bd2b1164a53\n",
    "\n",
    "About relu: https://www.kaggle.com/dansbecker/rectified-linear-units-relu-in-deep-learning\n",
    "f(x)=max(0,x)\n",
    "> help a model account for **intraction effects** when one variable A affects a prediction differently depending on the value of B and **non-liner effects**\n",
    "\n",
    "Pooling layers: https://machinelearningmastery.com/pooling-layers-for-convolutional-neural-networks/\n",
    "> provide an approach to down sampling feature maps by summarizing the presence of features in patches of the feature map."
   ]
  },
  {
   "cell_type": "code",
   "execution_count": 11,
   "metadata": {},
   "outputs": [
    {
     "name": "stdout",
     "output_type": "stream",
     "text": [
      "Epoch 1/10\n",
      "13404/13404 [==============================] - 86s 6ms/step - loss: 0.4999 - acc: 0.5001\n",
      "Epoch 2/10\n",
      "13404/13404 [==============================] - 112s 8ms/step - loss: 0.5042 - acc: 0.4958\n",
      "Epoch 3/10\n",
      "13404/13404 [==============================] - 110s 8ms/step - loss: 0.5042 - acc: 0.4958\n",
      "Epoch 4/10\n",
      "13404/13404 [==============================] - 113s 8ms/step - loss: 0.5047 - acc: 0.4953\n",
      "Epoch 5/10\n",
      "13404/13404 [==============================] - 114s 9ms/step - loss: 0.5038 - acc: 0.4962\n",
      "Epoch 6/10\n",
      "13404/13404 [==============================] - 94s 7ms/step - loss: 0.5041 - acc: 0.4959\n",
      "Epoch 7/10\n",
      "13404/13404 [==============================] - 91s 7ms/step - loss: 0.5058 - acc: 0.4942\n",
      "Epoch 8/10\n",
      "13404/13404 [==============================] - 95s 7ms/step - loss: 0.4958 - acc: 0.5042\n",
      "Epoch 9/10\n",
      "13404/13404 [==============================] - 91s 7ms/step - loss: 0.4958 - acc: 0.5042\n",
      "Epoch 10/10\n",
      "13404/13404 [==============================] - 91s 7ms/step - loss: 0.4958 - acc: 0.5042\n",
      "\n",
      "Tempo gasto: 998.8091316223145 segundos\n"
     ]
    }
   ],
   "source": [
    "model = Sequential()\n",
    "\n",
    "model.add(Conv2D(nb_filters, kernel_size, input_shape=input_shape))\n",
    "\n",
    "model.add(Activation('relu'))\n",
    "\n",
    "model.add(Conv2D(nb_filters, kernel_size))\n",
    "\n",
    "model.add(Activation('relu'))\n",
    "\n",
    "model.add(Conv2D(nb_filters, kernel_size))\n",
    "\n",
    "model.add(Activation('relu'))\n",
    "\n",
    "model.add(Conv2D(nb_filters, kernel_size))\n",
    "\n",
    "model.add(Activation('relu'))\n",
    "\n",
    "model.add(MaxPooling2D(pool_size = pool_size))\n",
    "\n",
    "model.add(Dropout(0.2))\n",
    "\n",
    "model.add(Flatten())\n",
    "\n",
    "model.add(Dense(200))\n",
    "\n",
    "model.add(Activation('relu'))\n",
    "\n",
    "model.add(Dense(200))\n",
    "\n",
    "model.add(Activation('relu'))\n",
    "\n",
    "model.add(Dense(200))\n",
    "\n",
    "model.add(Activation('relu'))\n",
    "\n",
    "model.add(Dropout(0.3))\n",
    "\n",
    "model.add(Dense(2))\n",
    "\n",
    "model.add(Activation('softmax'))\n",
    "\n",
    "model.compile(loss='mean_absolute_error', optimizer='sgd', metrics=['accuracy'])\n",
    "\n",
    "model.fit(x_train, y_train, epochs=10)\n",
    "\n",
    "print ('\\nTempo gasto: %s segundos' % str(time() - start))\n",
    "\n",
    "# y_prediction = model.predict_classes(X_test)\n",
    "# print (\"\\nAcurácia\", np.sum(y_prediction == y_test) / float(len(y_test)))"
   ]
  }
 ],
 "metadata": {
  "kernelspec": {
   "display_name": "Python 3",
   "language": "python",
   "name": "python3"
  },
  "language_info": {
   "codemirror_mode": {
    "name": "ipython",
    "version": 3
   },
   "file_extension": ".py",
   "mimetype": "text/x-python",
   "name": "python",
   "nbconvert_exporter": "python",
   "pygments_lexer": "ipython3",
   "version": "3.6.7"
  }
 },
 "nbformat": 4,
 "nbformat_minor": 2
}
