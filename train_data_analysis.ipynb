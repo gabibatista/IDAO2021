{
 "cells": [
  {
   "cell_type": "code",
   "execution_count": 1,
   "metadata": {},
   "outputs": [],
   "source": [
    "import pandas as pd, numpy as np"
   ]
  },
  {
   "cell_type": "code",
   "execution_count": 3,
   "metadata": {},
   "outputs": [
    {
     "data": {
      "text/html": [
       "<div>\n",
       "<style scoped>\n",
       "    .dataframe tbody tr th:only-of-type {\n",
       "        vertical-align: middle;\n",
       "    }\n",
       "\n",
       "    .dataframe tbody tr th {\n",
       "        vertical-align: top;\n",
       "    }\n",
       "\n",
       "    .dataframe thead th {\n",
       "        text-align: right;\n",
       "    }\n",
       "</style>\n",
       "<table border=\"1\" class=\"dataframe\">\n",
       "  <thead>\n",
       "    <tr style=\"text-align: right;\">\n",
       "      <th></th>\n",
       "      <th>0</th>\n",
       "      <th>1</th>\n",
       "      <th>2</th>\n",
       "      <th>3</th>\n",
       "      <th>4</th>\n",
       "      <th>5</th>\n",
       "      <th>6</th>\n",
       "      <th>7</th>\n",
       "      <th>8</th>\n",
       "      <th>9</th>\n",
       "      <th>...</th>\n",
       "      <th>2493</th>\n",
       "      <th>2494</th>\n",
       "      <th>2495</th>\n",
       "      <th>2496</th>\n",
       "      <th>2497</th>\n",
       "      <th>2498</th>\n",
       "      <th>2499</th>\n",
       "      <th>2500</th>\n",
       "      <th>2501</th>\n",
       "      <th>2502</th>\n",
       "    </tr>\n",
       "  </thead>\n",
       "  <tbody>\n",
       "    <tr>\n",
       "      <td>0</td>\n",
       "      <td>0.000278</td>\n",
       "      <td>ER</td>\n",
       "      <td>10</td>\n",
       "      <td>25700</td>\n",
       "      <td>25700</td>\n",
       "      <td>25700</td>\n",
       "      <td>25700</td>\n",
       "      <td>25700</td>\n",
       "      <td>25700</td>\n",
       "      <td>25700</td>\n",
       "      <td>...</td>\n",
       "      <td>25957</td>\n",
       "      <td>25700</td>\n",
       "      <td>25957</td>\n",
       "      <td>25957</td>\n",
       "      <td>25957</td>\n",
       "      <td>25700</td>\n",
       "      <td>25700</td>\n",
       "      <td>25700</td>\n",
       "      <td>25700</td>\n",
       "      <td>25700</td>\n",
       "    </tr>\n",
       "    <tr>\n",
       "      <td>1</td>\n",
       "      <td>0.001131</td>\n",
       "      <td>ER</td>\n",
       "      <td>3</td>\n",
       "      <td>25957</td>\n",
       "      <td>25957</td>\n",
       "      <td>25700</td>\n",
       "      <td>25700</td>\n",
       "      <td>25957</td>\n",
       "      <td>25957</td>\n",
       "      <td>25957</td>\n",
       "      <td>...</td>\n",
       "      <td>25957</td>\n",
       "      <td>25700</td>\n",
       "      <td>25700</td>\n",
       "      <td>25957</td>\n",
       "      <td>25957</td>\n",
       "      <td>25700</td>\n",
       "      <td>25700</td>\n",
       "      <td>25700</td>\n",
       "      <td>25957</td>\n",
       "      <td>25957</td>\n",
       "    </tr>\n",
       "    <tr>\n",
       "      <td>2</td>\n",
       "      <td>0.001919</td>\n",
       "      <td>ER</td>\n",
       "      <td>3</td>\n",
       "      <td>25957</td>\n",
       "      <td>25700</td>\n",
       "      <td>25700</td>\n",
       "      <td>25700</td>\n",
       "      <td>25957</td>\n",
       "      <td>25700</td>\n",
       "      <td>25700</td>\n",
       "      <td>...</td>\n",
       "      <td>25700</td>\n",
       "      <td>25957</td>\n",
       "      <td>25957</td>\n",
       "      <td>25700</td>\n",
       "      <td>25700</td>\n",
       "      <td>25700</td>\n",
       "      <td>25957</td>\n",
       "      <td>25700</td>\n",
       "      <td>25957</td>\n",
       "      <td>25700</td>\n",
       "    </tr>\n",
       "    <tr>\n",
       "      <td>3</td>\n",
       "      <td>0.002344</td>\n",
       "      <td>ER</td>\n",
       "      <td>3</td>\n",
       "      <td>25700</td>\n",
       "      <td>25957</td>\n",
       "      <td>25700</td>\n",
       "      <td>25957</td>\n",
       "      <td>25957</td>\n",
       "      <td>25700</td>\n",
       "      <td>25700</td>\n",
       "      <td>...</td>\n",
       "      <td>25957</td>\n",
       "      <td>25957</td>\n",
       "      <td>25700</td>\n",
       "      <td>25700</td>\n",
       "      <td>25700</td>\n",
       "      <td>25700</td>\n",
       "      <td>25700</td>\n",
       "      <td>25957</td>\n",
       "      <td>25957</td>\n",
       "      <td>25957</td>\n",
       "    </tr>\n",
       "    <tr>\n",
       "      <td>4</td>\n",
       "      <td>0.002484</td>\n",
       "      <td>ER</td>\n",
       "      <td>10</td>\n",
       "      <td>25700</td>\n",
       "      <td>25700</td>\n",
       "      <td>25700</td>\n",
       "      <td>25957</td>\n",
       "      <td>25957</td>\n",
       "      <td>25957</td>\n",
       "      <td>25700</td>\n",
       "      <td>...</td>\n",
       "      <td>25957</td>\n",
       "      <td>25700</td>\n",
       "      <td>25957</td>\n",
       "      <td>25957</td>\n",
       "      <td>25957</td>\n",
       "      <td>25700</td>\n",
       "      <td>25700</td>\n",
       "      <td>25700</td>\n",
       "      <td>25957</td>\n",
       "      <td>25700</td>\n",
       "    </tr>\n",
       "  </tbody>\n",
       "</table>\n",
       "<p>5 rows × 2503 columns</p>\n",
       "</div>"
      ],
      "text/plain": [
       "       0    1     2      3      4      5      6      7      8      9     ...  \\\n",
       "0  0.000278   ER    10  25700  25700  25700  25700  25700  25700  25700  ...   \n",
       "1  0.001131   ER     3  25957  25957  25700  25700  25957  25957  25957  ...   \n",
       "2  0.001919   ER     3  25957  25700  25700  25700  25957  25700  25700  ...   \n",
       "3  0.002344   ER     3  25700  25957  25700  25957  25957  25700  25700  ...   \n",
       "4  0.002484   ER    10  25700  25700  25700  25957  25957  25957  25700  ...   \n",
       "\n",
       "    2493   2494   2495   2496   2497   2498   2499   2500   2501   2502  \n",
       "0  25957  25700  25957  25957  25957  25700  25700  25700  25700  25700  \n",
       "1  25957  25700  25700  25957  25957  25700  25700  25700  25957  25957  \n",
       "2  25700  25957  25957  25700  25700  25700  25957  25700  25957  25700  \n",
       "3  25957  25957  25700  25700  25700  25700  25700  25957  25957  25957  \n",
       "4  25957  25700  25957  25957  25957  25700  25700  25700  25957  25700  \n",
       "\n",
       "[5 rows x 2503 columns]"
      ]
     },
     "execution_count": 3,
     "metadata": {},
     "output_type": "execute_result"
    }
   ],
   "source": [
    "data = pd.read_csv('data/train_dataset.csv', header=None)\n",
    "data.head()"
   ]
  },
  {
   "cell_type": "code",
   "execution_count": 4,
   "metadata": {},
   "outputs": [
    {
     "data": {
      "text/plain": [
       "0       13404\n",
       "1       13404\n",
       "2       13404\n",
       "3       13404\n",
       "4       13404\n",
       "        ...  \n",
       "2498    13404\n",
       "2499    13404\n",
       "2500    13404\n",
       "2501    13404\n",
       "2502    13404\n",
       "Length: 2503, dtype: int64"
      ]
     },
     "execution_count": 4,
     "metadata": {},
     "output_type": "execute_result"
    }
   ],
   "source": [
    "data.count()"
   ]
  },
  {
   "cell_type": "code",
   "execution_count": 10,
   "metadata": {},
   "outputs": [
    {
     "data": {
      "text/html": [
       "<div>\n",
       "<style scoped>\n",
       "    .dataframe tbody tr th:only-of-type {\n",
       "        vertical-align: middle;\n",
       "    }\n",
       "\n",
       "    .dataframe tbody tr th {\n",
       "        vertical-align: top;\n",
       "    }\n",
       "\n",
       "    .dataframe thead th {\n",
       "        text-align: right;\n",
       "    }\n",
       "</style>\n",
       "<table border=\"1\" class=\"dataframe\">\n",
       "  <thead>\n",
       "    <tr style=\"text-align: right;\">\n",
       "      <th></th>\n",
       "      <th>0</th>\n",
       "      <th>2</th>\n",
       "    </tr>\n",
       "  </thead>\n",
       "  <tbody>\n",
       "    <tr>\n",
       "      <td>count</td>\n",
       "      <td>13404.000000</td>\n",
       "      <td>13404.000000</td>\n",
       "    </tr>\n",
       "    <tr>\n",
       "      <td>mean</td>\n",
       "      <td>0.010671</td>\n",
       "      <td>11.680170</td>\n",
       "    </tr>\n",
       "    <tr>\n",
       "      <td>std</td>\n",
       "      <td>1.428682</td>\n",
       "      <td>10.225547</td>\n",
       "    </tr>\n",
       "    <tr>\n",
       "      <td>min</td>\n",
       "      <td>-3.139500</td>\n",
       "      <td>1.000000</td>\n",
       "    </tr>\n",
       "    <tr>\n",
       "      <td>25%</td>\n",
       "      <td>-1.035946</td>\n",
       "      <td>3.000000</td>\n",
       "    </tr>\n",
       "    <tr>\n",
       "      <td>50%</td>\n",
       "      <td>0.022967</td>\n",
       "      <td>10.000000</td>\n",
       "    </tr>\n",
       "    <tr>\n",
       "      <td>75%</td>\n",
       "      <td>1.033967</td>\n",
       "      <td>20.000000</td>\n",
       "    </tr>\n",
       "    <tr>\n",
       "      <td>max</td>\n",
       "      <td>3.141400</td>\n",
       "      <td>30.000000</td>\n",
       "    </tr>\n",
       "  </tbody>\n",
       "</table>\n",
       "</div>"
      ],
      "text/plain": [
       "                  0             2\n",
       "count  13404.000000  13404.000000\n",
       "mean       0.010671     11.680170\n",
       "std        1.428682     10.225547\n",
       "min       -3.139500      1.000000\n",
       "25%       -1.035946      3.000000\n",
       "50%        0.022967     10.000000\n",
       "75%        1.033967     20.000000\n",
       "max        3.141400     30.000000"
      ]
     },
     "execution_count": 10,
     "metadata": {},
     "output_type": "execute_result"
    }
   ],
   "source": [
    "data[[0, 1, 2]].describe()"
   ]
  },
  {
   "cell_type": "code",
   "execution_count": 12,
   "metadata": {},
   "outputs": [
    {
     "data": {
      "image/png": "[encoded data removed]",
      "text/plain": [
       "<Figure size 432x288 with 1 Axes>"
      ]
     },
     "metadata": {},
     "output_type": "display_data"
    }
   ],
   "source": [
    "data.groupby(1).count().plot.bar(y=3);"
   ]
  },
  {
   "cell_type": "code",
   "execution_count": 13,
   "metadata": {},
   "outputs": [
    {
     "data": {
      "image/png": "[encoded data removed]",
      "text/plain": [
       "<Figure size 432x288 with 1 Axes>"
      ]
     },
     "metadata": {},
     "output_type": "display_data"
    }
   ],
   "source": [
    "data.groupby(2).count().plot.bar(y=3);"
   ]
  },
  {
   "cell_type": "code",
   "execution_count": 14,
   "metadata": {},
   "outputs": [
    {
     "data": {
      "image/png": "[encoded data removed]",
      "text/plain": [
       "<Figure size 432x288 with 1 Axes>"
      ]
     },
     "metadata": {},
     "output_type": "display_data"
    }
   ],
   "source": [
    "data.groupby([1, 2]).count().plot.bar(y=3);"
   ]
  }
 ],
 "metadata": {
  "kernelspec": {
   "display_name": "Python 3",
   "language": "python",
   "name": "python3"
  },
  "language_info": {
   "codemirror_mode": {
    "name": "ipython",
    "version": 3
   },
   "file_extension": ".py",
   "mimetype": "text/x-python",
   "name": "python",
   "nbconvert_exporter": "python",
   "pygments_lexer": "ipython3",
   "version": "3.6.7"
  }
 },
 "nbformat": 4,
 "nbformat_minor": 2
}
